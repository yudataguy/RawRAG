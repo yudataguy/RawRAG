{
 "cells": [
  {
   "cell_type": "markdown",
   "metadata": {},
   "source": [
    "# Raw RAG 02: You Don't Have to Embed\n",
    "\n",
    "Welcome to the second notebook of our Raw RAG series! This time, we're going to explore an interesting twist: creating a Retrieval-Augmented Generation (RAG) system without using embeddings.\n",
    "\n",
    "## Why No Embeddings?\n",
    "\n",
    "You might be wondering, \"Aren't embeddings a crucial part of RAG?\" Well, not always! Depending on your specific use case, there are alternative techniques that can be just as effective - and sometimes even more efficient.\n",
    "\n",
    "## What We'll Cover\n",
    "\n",
    "In this notebook, we'll dive into several non-embedding approaches for information retrieval:\n",
    "\n",
    "1. **BM25**: A powerful ranking function used in document retrieval\n",
    "2. **Natural Language Processing (NLP) techniques**: Using linguistic features for matching\n",
    "3. **Reranking**: Improving initial search results for better relevance\n",
    "\n",
    "These methods can often provide excellent results, especially for certain types of data or specific application requirements.\n",
    "\n",
    "*Note: For simplicity, we'll be using Cohere's Rerank API in some examples.*\n",
    "\n",
    "Ready to see how we can do RAG without embeddings? Let's get started!"
   ]
  },
  {
   "cell_type": "code",
   "execution_count": 2,
   "metadata": {},
   "outputs": [
    {
     "name": "stdout",
     "output_type": "stream",
     "text": [
      "Requirement already satisfied: openai in ./.venv/lib/python3.12/site-packages (1.35.10)\n",
      "Requirement already satisfied: python-dotenv in ./.venv/lib/python3.12/site-packages (1.0.1)\n",
      "Requirement already satisfied: anyio<5,>=3.5.0 in ./.venv/lib/python3.12/site-packages (from openai) (4.4.0)\n",
      "Requirement already satisfied: distro<2,>=1.7.0 in ./.venv/lib/python3.12/site-packages (from openai) (1.9.0)\n",
      "Requirement already satisfied: httpx<1,>=0.23.0 in ./.venv/lib/python3.12/site-packages (from openai) (0.27.0)\n",
      "Requirement already satisfied: pydantic<3,>=1.9.0 in ./.venv/lib/python3.12/site-packages (from openai) (2.8.2)\n",
      "Requirement already satisfied: sniffio in ./.venv/lib/python3.12/site-packages (from openai) (1.3.1)\n",
      "Requirement already satisfied: tqdm>4 in ./.venv/lib/python3.12/site-packages (from openai) (4.66.4)\n",
      "Requirement already satisfied: typing-extensions<5,>=4.7 in ./.venv/lib/python3.12/site-packages (from openai) (4.12.2)\n",
      "Requirement already satisfied: idna>=2.8 in ./.venv/lib/python3.12/site-packages (from anyio<5,>=3.5.0->openai) (3.7)\n",
      "Requirement already satisfied: certifi in ./.venv/lib/python3.12/site-packages (from httpx<1,>=0.23.0->openai) (2024.7.4)\n",
      "Requirement already satisfied: httpcore==1.* in ./.venv/lib/python3.12/site-packages (from httpx<1,>=0.23.0->openai) (1.0.5)\n",
      "Requirement already satisfied: h11<0.15,>=0.13 in ./.venv/lib/python3.12/site-packages (from httpcore==1.*->httpx<1,>=0.23.0->openai) (0.14.0)\n",
      "Requirement already satisfied: annotated-types>=0.4.0 in ./.venv/lib/python3.12/site-packages (from pydantic<3,>=1.9.0->openai) (0.7.0)\n",
      "Requirement already satisfied: pydantic-core==2.20.1 in ./.venv/lib/python3.12/site-packages (from pydantic<3,>=1.9.0->openai) (2.20.1)\n",
      "\n",
      "\u001b[1m[\u001b[0m\u001b[34;49mnotice\u001b[0m\u001b[1;39;49m]\u001b[0m\u001b[39;49m A new release of pip is available: \u001b[0m\u001b[31;49m24.0\u001b[0m\u001b[39;49m -> \u001b[0m\u001b[32;49m24.1.2\u001b[0m\n",
      "\u001b[1m[\u001b[0m\u001b[34;49mnotice\u001b[0m\u001b[1;39;49m]\u001b[0m\u001b[39;49m To update, run: \u001b[0m\u001b[32;49mpip install --upgrade pip\u001b[0m\n",
      "Note: you may need to restart the kernel to use updated packages.\n"
     ]
    }
   ],
   "source": [
    "%pip install openai python-dotenv"
   ]
  },
  {
   "cell_type": "code",
   "execution_count": 3,
   "metadata": {},
   "outputs": [
    {
     "data": {
      "text/plain": [
       "True"
      ]
     },
     "execution_count": 3,
     "metadata": {},
     "output_type": "execute_result"
    }
   ],
   "source": [
    "# Load the environment variables from the .env file\n",
    "\n",
    "from dotenv import load_dotenv\n",
    "import os\n",
    "\n",
    "dotenv_path = \".env\"\n",
    "load_dotenv(dotenv_path=dotenv_path)"
   ]
  },
  {
   "cell_type": "code",
   "execution_count": 4,
   "metadata": {},
   "outputs": [
    {
     "name": "stdout",
     "output_type": "stream",
     "text": [
      "“The Lottery [abridged]” (1948)--- By Shirley Jackson\n",
      "\n",
      "The people of the village began to gather in the square, between the post office and the bank, around ten o'clock; in some towns there were so many people that the lottery took two days and had to be started on June 2nd.  But in this village, where there were only about three hundred people, the whole lottery took less than two hours, so it could begin at ten o'clock in the morning and still be through in time to allow the villagers to get home for noon dinner. \n",
      "The children assembled first, of course. Bobby Martin had already stuffed his pockets full of stones, and the other boys soon followed his example, selecting the smooth\n"
     ]
    }
   ],
   "source": [
    "# Load the short novel text\n",
    "\n",
    "file_path = \"docs/the_lottery_text.txt\"\n",
    "\n",
    "with open(file_path, \"r\", encoding=\"utf-8\") as file:\n",
    "    text = file.read()\n",
    "\n",
    "print(text[:690])"
   ]
  },
  {
   "cell_type": "code",
   "execution_count": 5,
   "metadata": {},
   "outputs": [
    {
     "name": "stdout",
     "output_type": "stream",
     "text": [
      "Paragraph 1: “The Lottery [abridged]” (1948)--- By Shirley Jackson The people of the village began to gather in the square, between the post office and the bank, around ten o'clock; in some towns there were so many people that the lottery took two days and had to be started on June 2nd.\n",
      "Paragraph 2: But in this village, where there were only about three hundred people, the whole lottery took less than two hours, so it could begin at ten o'clock in the morning and still be through in time to allow the villagers to get home for noon dinner. The children assembled first, of course.\n",
      "Paragraph 3: Bobby Martin had already stuffed his pockets full of stones, and the other boys soon followed his example, selecting the smoothest and roundest stones; Bobby and Harry Jones and Dickie Delacroix-- the villagers pronounced this name \"Dellacroy\"--eventually made a great pile of stones in one corner of the square and guarded it against the raids of the other boys. The lottery was conducted--as were the square dances, the teen club, the Halloween program--by Mr.\n",
      "Paragraph 4: Summers, who had time and energy to devote to civic activities. When he arrived in the square, carrying the black wooden box, there was a murmur of conversation among the villagers, and he waved and called, \"Little late today, folks. \" There was a great deal of fussing to be done before Mr. Summers declared the lottery open. There were the lists to make up--of heads of families- heads of households in each family. There was the proper swearing-in of Mr.\n",
      "Paragraph 5: Summers by the postmaster, as the official of the lottery. Mrs. Hutchinson reached her husband, and Mr. Summers, who had been waiting, said cheerfully. \"Thought we were going to have to get on without you, Tessie. \" Mrs. Hutchinson said, grinning, \"Wouldn't have me leave m'dishes in the sink, now, would you. Joe?\" and soft laughter ran through the crowd as the people stirred back into position after Mrs. Hutchinson's arrival. \"Well, now. \" Mr.\n"
     ]
    }
   ],
   "source": [
    "from utils import TextProcessor, SearchEngine\n",
    "\n",
    "text_processor = TextProcessor()\n",
    "search_engine = SearchEngine()\n",
    "\n",
    "# Split the text into paragraphs\n",
    "paragraphs = text_processor.text_splitter(text)\n",
    "\n",
    "for i, paragraph in enumerate(paragraphs[:5]):\n",
    "    print(f\"Paragraph {i+1}: {paragraph}\")"
   ]
  },
  {
   "cell_type": "markdown",
   "metadata": {},
   "source": [
    "# BM25 Search Algorithm: A Brief Overview\n",
    "\n",
    "BM25 (Best Matching 25) is a ranking function used in information retrieval, improving upon earlier TF-IDF methods. It's widely used in search applications due to its effectiveness and simplicity.\n",
    "\n",
    "## How It Works\n",
    "\n",
    "BM25 calculates a relevance score for documents based on:\n",
    "\n",
    "1. **Term Frequency**: How often query terms appear in a document.\n",
    "2. **Inverse Document Frequency**: How rare or common terms are across all documents.\n",
    "3. **Document Length**: Adjusting scores to avoid bias towards longer documents.\n",
    "\n",
    "## Key Features\n",
    "\n",
    "- Caps the impact of repeated terms\n",
    "- Normalizes for document length\n",
    "- Based on probabilistic retrieval framework\n",
    "\n",
    "## Advantages for RAG Systems\n",
    "\n",
    "- Effective: Often outperforms simpler models\n",
    "- Efficient: Low computational overhead\n",
    "- No training required: Works well without large datasets or training phases\n",
    "\n",
    "In our RAG system, BM25 offers a powerful way to retrieve relevant documents without embeddings, making it suitable for many applications.\n",
    "\n",
    "Wikipedia: https://en.wikipedia.org/wiki/Okapi_BM25\n",
    "\n",
    "*Note*: Please see the bm25 code in `utils.py` for implementation details, and utils_readme.md for instructions on how to use it."
   ]
  },
  {
   "cell_type": "code",
   "execution_count": 6,
   "metadata": {},
   "outputs": [
    {
     "name": "stdout",
     "output_type": "stream",
     "text": [
      "Paragraph 4: Summers, who had time and energy to devote to civic activities. When he arrived in the square, carrying the black wooden box, there was a murmur of conversation among the villagers, and he waved and called, \"Little late today, folks. \" There was a great deal of fussing to be done before Mr. Summers declared the lottery open. There were the lists to make up--of heads of families- heads of households in each family. There was the proper swearing-in of Mr.\n",
      "Similarity: 4.506020604301391\n",
      "Paragraph 13: \" Bill Hutchinson said regretfully. \"My daughter draws with her husband's family; that's only fair. And I've got no other family except the kids. \" \"Then, as far as drawing for families is concerned, it's you,\" Mr. Summers said in explanation, \"and as far as drawing for households is concerned, that's you, too. Right?\" \"Right,\" Bill Hutchinson said. \"How many kids, Bill?\" Mr. Summers asked formally. \"Three,\" Bill Hutchinson said. \"There's Bill, Jr. , and Nancy, and little Dave, and Tessie and me.\n",
      "Similarity: 3.2322265319324983\n",
      "Paragraph 10: After that, there was a long pause, a breathless pause, until Mr. Summers, holding his slip of paper in the air said, \"All right, fellows. \" For a minute, no one moved, and then all the slips of paper were opened. Suddenly, all the women began to speak at once, saving. \"Who is it?,\" \"Who's got it?,\" \"Is it the Dunbars?,\" \"Is it the Watsons?\" Then the voices began to say, \"It's Hutchinson. It's Bill,\" \"Bill Hutchinson's got it. \" \"Go tell your father,\" Mrs. Dunbar said to her older son.\n",
      "Similarity: 2.2333968475181614\n",
      "Paragraph 1: “The Lottery [abridged]” (1948)--- By Shirley Jackson The people of the village began to gather in the square, between the post office and the bank, around ten o'clock; in some towns there were so many people that the lottery took two days and had to be started on June 2nd.\n",
      "Similarity: 2.131164541156141\n",
      "Paragraph 2: But in this village, where there were only about three hundred people, the whole lottery took less than two hours, so it could begin at ten o'clock in the morning and still be through in time to allow the villagers to get home for noon dinner. The children assembled first, of course.\n",
      "Similarity: 2.0891176165567593\n"
     ]
    }
   ],
   "source": [
    "query = \"When is the lottery held?\"\n",
    "\n",
    "# bm25 search\n",
    "results = search_engine.bm25_search(query, paragraphs)\n",
    "for idx, result in enumerate(results):\n",
    "    paragraph_idx = result[0]\n",
    "    print(f\"Paragraph {result[0]+1}: {paragraphs[paragraph_idx]}\")\n",
    "    print(f\"Similarity: {result[1]}\")"
   ]
  },
  {
   "cell_type": "markdown",
   "metadata": {},
   "source": [
    "# Rerank Method: Refining Search Results\n",
    "\n",
    "Reranking is a crucial step in many advanced information retrieval systems, including RAG. It's a process of fine-tuning initial search results to improve their relevance and quality.\n",
    "\n",
    "## How Reranking Works\n",
    "\n",
    "1. **Initial Retrieval**: A fast, broad search method (like BM25) retrieves a set of potentially relevant documents.\n",
    "2. **Reranking**: A more sophisticated algorithm reassesses this initial set, reordering the results based on additional criteria.\n",
    "\n",
    "## Key Features\n",
    "\n",
    "- Uses more complex relevance models than initial retrieval\n",
    "- Can incorporate additional context or features not used in the first pass\n",
    "- Often leverages machine learning or deep learning techniques\n",
    "\n",
    "## Benefits in RAG Systems\n",
    "\n",
    "- **Improved Accuracy**: Helps surface the most relevant documents for the given query\n",
    "- **Balances Efficiency and Effectiveness**: Combines fast initial retrieval with more nuanced ranking\n",
    "- **Flexibility**: Can be tailored to specific use cases or domains\n",
    "\n",
    "By incorporating reranking, RAG systems can significantly enhance the quality of retrieved context, leading to more accurate and relevant generated responses."
   ]
  },
  {
   "cell_type": "code",
   "execution_count": 7,
   "metadata": {},
   "outputs": [
    {
     "name": "stdout",
     "output_type": "stream",
     "text": [
      "Requirement already satisfied: cohere in ./.venv/lib/python3.12/site-packages (5.5.8)\n",
      "Requirement already satisfied: boto3<2.0.0,>=1.34.0 in ./.venv/lib/python3.12/site-packages (from cohere) (1.34.141)\n",
      "Requirement already satisfied: fastavro<2.0.0,>=1.9.4 in ./.venv/lib/python3.12/site-packages (from cohere) (1.9.5)\n",
      "Requirement already satisfied: httpx>=0.21.2 in ./.venv/lib/python3.12/site-packages (from cohere) (0.27.0)\n",
      "Requirement already satisfied: httpx-sse<0.5.0,>=0.4.0 in ./.venv/lib/python3.12/site-packages (from cohere) (0.4.0)\n",
      "Requirement already satisfied: parameterized<0.10.0,>=0.9.0 in ./.venv/lib/python3.12/site-packages (from cohere) (0.9.0)\n",
      "Requirement already satisfied: pydantic>=1.9.2 in ./.venv/lib/python3.12/site-packages (from cohere) (2.8.2)\n",
      "Requirement already satisfied: requests<3.0.0,>=2.0.0 in ./.venv/lib/python3.12/site-packages (from cohere) (2.32.3)\n",
      "Requirement already satisfied: tokenizers<1,>=0.15 in ./.venv/lib/python3.12/site-packages (from cohere) (0.19.1)\n",
      "Requirement already satisfied: types-requests<3.0.0,>=2.0.0 in ./.venv/lib/python3.12/site-packages (from cohere) (2.32.0.20240622)\n",
      "Requirement already satisfied: typing_extensions>=4.0.0 in ./.venv/lib/python3.12/site-packages (from cohere) (4.12.2)\n",
      "Requirement already satisfied: botocore<1.35.0,>=1.34.141 in ./.venv/lib/python3.12/site-packages (from boto3<2.0.0,>=1.34.0->cohere) (1.34.141)\n",
      "Requirement already satisfied: jmespath<2.0.0,>=0.7.1 in ./.venv/lib/python3.12/site-packages (from boto3<2.0.0,>=1.34.0->cohere) (1.0.1)\n",
      "Requirement already satisfied: s3transfer<0.11.0,>=0.10.0 in ./.venv/lib/python3.12/site-packages (from boto3<2.0.0,>=1.34.0->cohere) (0.10.2)\n",
      "Requirement already satisfied: anyio in ./.venv/lib/python3.12/site-packages (from httpx>=0.21.2->cohere) (4.4.0)\n",
      "Requirement already satisfied: certifi in ./.venv/lib/python3.12/site-packages (from httpx>=0.21.2->cohere) (2024.7.4)\n",
      "Requirement already satisfied: httpcore==1.* in ./.venv/lib/python3.12/site-packages (from httpx>=0.21.2->cohere) (1.0.5)\n",
      "Requirement already satisfied: idna in ./.venv/lib/python3.12/site-packages (from httpx>=0.21.2->cohere) (3.7)\n",
      "Requirement already satisfied: sniffio in ./.venv/lib/python3.12/site-packages (from httpx>=0.21.2->cohere) (1.3.1)\n",
      "Requirement already satisfied: h11<0.15,>=0.13 in ./.venv/lib/python3.12/site-packages (from httpcore==1.*->httpx>=0.21.2->cohere) (0.14.0)\n",
      "Requirement already satisfied: annotated-types>=0.4.0 in ./.venv/lib/python3.12/site-packages (from pydantic>=1.9.2->cohere) (0.7.0)\n",
      "Requirement already satisfied: pydantic-core==2.20.1 in ./.venv/lib/python3.12/site-packages (from pydantic>=1.9.2->cohere) (2.20.1)\n",
      "Requirement already satisfied: charset-normalizer<4,>=2 in ./.venv/lib/python3.12/site-packages (from requests<3.0.0,>=2.0.0->cohere) (3.3.2)\n",
      "Requirement already satisfied: urllib3<3,>=1.21.1 in ./.venv/lib/python3.12/site-packages (from requests<3.0.0,>=2.0.0->cohere) (2.2.2)\n",
      "Requirement already satisfied: huggingface-hub<1.0,>=0.16.4 in ./.venv/lib/python3.12/site-packages (from tokenizers<1,>=0.15->cohere) (0.23.4)\n",
      "Requirement already satisfied: python-dateutil<3.0.0,>=2.1 in ./.venv/lib/python3.12/site-packages (from botocore<1.35.0,>=1.34.141->boto3<2.0.0,>=1.34.0->cohere) (2.9.0.post0)\n",
      "Requirement already satisfied: filelock in ./.venv/lib/python3.12/site-packages (from huggingface-hub<1.0,>=0.16.4->tokenizers<1,>=0.15->cohere) (3.15.4)\n",
      "Requirement already satisfied: fsspec>=2023.5.0 in ./.venv/lib/python3.12/site-packages (from huggingface-hub<1.0,>=0.16.4->tokenizers<1,>=0.15->cohere) (2024.6.1)\n",
      "Requirement already satisfied: packaging>=20.9 in ./.venv/lib/python3.12/site-packages (from huggingface-hub<1.0,>=0.16.4->tokenizers<1,>=0.15->cohere) (24.1)\n",
      "Requirement already satisfied: pyyaml>=5.1 in ./.venv/lib/python3.12/site-packages (from huggingface-hub<1.0,>=0.16.4->tokenizers<1,>=0.15->cohere) (6.0.1)\n",
      "Requirement already satisfied: tqdm>=4.42.1 in ./.venv/lib/python3.12/site-packages (from huggingface-hub<1.0,>=0.16.4->tokenizers<1,>=0.15->cohere) (4.66.4)\n",
      "Requirement already satisfied: six>=1.5 in ./.venv/lib/python3.12/site-packages (from python-dateutil<3.0.0,>=2.1->botocore<1.35.0,>=1.34.141->boto3<2.0.0,>=1.34.0->cohere) (1.16.0)\n",
      "\n",
      "\u001b[1m[\u001b[0m\u001b[34;49mnotice\u001b[0m\u001b[1;39;49m]\u001b[0m\u001b[39;49m A new release of pip is available: \u001b[0m\u001b[31;49m24.0\u001b[0m\u001b[39;49m -> \u001b[0m\u001b[32;49m24.1.2\u001b[0m\n",
      "\u001b[1m[\u001b[0m\u001b[34;49mnotice\u001b[0m\u001b[1;39;49m]\u001b[0m\u001b[39;49m To update, run: \u001b[0m\u001b[32;49mpip install --upgrade pip\u001b[0m\n",
      "Note: you may need to restart the kernel to use updated packages.\n"
     ]
    }
   ],
   "source": [
    "# Rerank the results using Cohere API\n",
    "%pip install cohere"
   ]
  },
  {
   "cell_type": "code",
   "execution_count": 8,
   "metadata": {},
   "outputs": [
    {
     "name": "stdout",
     "output_type": "stream",
     "text": [
      "Paragraph 1: “The Lottery [abridged]” (1948)--- By Shirley Jackson The people of the village began to gather in the square, between the post office and the bank, around ten o'clock; in some towns there were so many people that the lottery took two days and had to be started on June 2nd.\n",
      "Similarity: 0.77898574\n",
      "Paragraph 2: But in this village, where there were only about three hundred people, the whole lottery took less than two hours, so it could begin at ten o'clock in the morning and still be through in time to allow the villagers to get home for noon dinner. The children assembled first, of course.\n",
      "Similarity: 0.19590157\n",
      "Paragraph 4: Summers, who had time and energy to devote to civic activities. When he arrived in the square, carrying the black wooden box, there was a murmur of conversation among the villagers, and he waved and called, \"Little late today, folks. \" There was a great deal of fussing to be done before Mr. Summers declared the lottery open. There were the lists to make up--of heads of families- heads of households in each family. There was the proper swearing-in of Mr.\n",
      "Similarity: 0.0033897832\n",
      "Paragraph 8: Adams said to Old Man Warner, who stood next to him, \"that over in the north village they're talking of giving up the lottery. \" Old Man Warner snorted. \"Pack of crazy fools,\" he said. \"Listening to the young folks, nothing's good enough for them. Next thing you know, they'll be wanting to go back to living in caves, nobody work any more, live that way for a while. Used to be a saying about 'Lottery in June, corn be heavy soon.\n",
      "Similarity: 0.0018530594\n",
      "Paragraph 9: ' First thing you know, we'd all be eating stewed chickweed and acorns. There's always been a lottery,\" he added petulantly. \"Bad enough to see young Joe Summers up there joking with everybody. \" \"Some places have already quit lotteries. \" Mrs. Adams said. \"Nothing but trouble in that,\" Old Man Warner said stoutly. \"Pack of young fools. Seventy-seventh year I been in the lottery,\" Old Man Warner said as he went through the crowd. \"Seventy-seventh time. \"\n",
      "Similarity: 0.0011879054\n"
     ]
    }
   ],
   "source": [
    "# Rerank the initial search results using Cohere API\n",
    "\n",
    "import cohere\n",
    "\n",
    "co = cohere.Client(os.environ[\"COHERE_API_KEY\"])\n",
    "\n",
    "response = co.rerank(\n",
    "    model=\"rerank-english-v3.0\",\n",
    "    query=query,\n",
    "    documents=paragraphs,\n",
    "    top_n=5,\n",
    ")\n",
    "\n",
    "for idx, result in enumerate(response.results):\n",
    "    paragraph_idx = result.index\n",
    "    print(f\"Paragraph {paragraph_idx+1}: {paragraphs[paragraph_idx]}\")\n",
    "    print(f\"Similarity: {result.relevance_score}\")"
   ]
  },
  {
   "cell_type": "markdown",
   "metadata": {},
   "source": [
    "## Efficient Keyword Extraction with spaCy\n",
    "\n",
    "While Large Language Models (LLMs) offer powerful natural language processing capabilities, their probabilistic nature can lead to inconsistent results when extracting keywords. Enter spaCy, a lightweight and efficient NLP library that provides a more deterministic approach to keyword extraction.\n",
    "\n",
    "### Why Choose spaCy?\n",
    "\n",
    "1. **Deterministic Results**: Unlike LLMs, spaCy's rule-based and statistical models produce consistent outputs for the same input, enhancing reproducibility.\n",
    "\n",
    "2. **Efficiency**: spaCy's smaller models are designed for speed and low resource consumption, making them ideal for production environments.\n",
    "\n",
    "3. **Ease of Use**: With a simple API, spaCy allows for quick implementation and straightforward integration into existing workflows.\n",
    "\n",
    "4. **Customizability**: spaCy offers various pre-trained models of different sizes, allowing you to balance accuracy and performance based on your specific needs.\n",
    "\n",
    "5. **Debuggability**: The deterministic nature of spaCy's models makes it easier to trace and debug the keyword extraction process.\n",
    "\n",
    "By leveraging spaCy's smaller, focused models for keyword extraction, we can achieve consistent and efficient results. This approach not only simplifies our RAG pipeline but also makes it more robust and easier to maintain in the long run.\n",
    "\n",
    "spaCy: https://spacy.io/"
   ]
  },
  {
   "cell_type": "code",
   "execution_count": 9,
   "metadata": {},
   "outputs": [
    {
     "name": "stdout",
     "output_type": "stream",
     "text": [
      "Requirement already satisfied: spacy in ./.venv/lib/python3.12/site-packages (3.7.5)\n",
      "Requirement already satisfied: spacy-legacy<3.1.0,>=3.0.11 in ./.venv/lib/python3.12/site-packages (from spacy) (3.0.12)\n",
      "Requirement already satisfied: spacy-loggers<2.0.0,>=1.0.0 in ./.venv/lib/python3.12/site-packages (from spacy) (1.0.5)\n",
      "Requirement already satisfied: murmurhash<1.1.0,>=0.28.0 in ./.venv/lib/python3.12/site-packages (from spacy) (1.0.10)\n",
      "Requirement already satisfied: cymem<2.1.0,>=2.0.2 in ./.venv/lib/python3.12/site-packages (from spacy) (2.0.8)\n",
      "Requirement already satisfied: preshed<3.1.0,>=3.0.2 in ./.venv/lib/python3.12/site-packages (from spacy) (3.0.9)\n",
      "Requirement already satisfied: thinc<8.3.0,>=8.2.2 in ./.venv/lib/python3.12/site-packages (from spacy) (8.2.5)\n",
      "Requirement already satisfied: wasabi<1.2.0,>=0.9.1 in ./.venv/lib/python3.12/site-packages (from spacy) (1.1.3)\n",
      "Requirement already satisfied: srsly<3.0.0,>=2.4.3 in ./.venv/lib/python3.12/site-packages (from spacy) (2.4.8)\n",
      "Requirement already satisfied: catalogue<2.1.0,>=2.0.6 in ./.venv/lib/python3.12/site-packages (from spacy) (2.0.10)\n",
      "Requirement already satisfied: weasel<0.5.0,>=0.1.0 in ./.venv/lib/python3.12/site-packages (from spacy) (0.4.1)\n",
      "Requirement already satisfied: typer<1.0.0,>=0.3.0 in ./.venv/lib/python3.12/site-packages (from spacy) (0.12.3)\n",
      "Requirement already satisfied: tqdm<5.0.0,>=4.38.0 in ./.venv/lib/python3.12/site-packages (from spacy) (4.66.4)\n",
      "Requirement already satisfied: requests<3.0.0,>=2.13.0 in ./.venv/lib/python3.12/site-packages (from spacy) (2.32.3)\n",
      "Requirement already satisfied: pydantic!=1.8,!=1.8.1,<3.0.0,>=1.7.4 in ./.venv/lib/python3.12/site-packages (from spacy) (2.8.2)\n",
      "Requirement already satisfied: jinja2 in ./.venv/lib/python3.12/site-packages (from spacy) (3.1.4)\n",
      "Requirement already satisfied: setuptools in ./.venv/lib/python3.12/site-packages (from spacy) (70.2.0)\n",
      "Requirement already satisfied: packaging>=20.0 in ./.venv/lib/python3.12/site-packages (from spacy) (24.1)\n",
      "Requirement already satisfied: langcodes<4.0.0,>=3.2.0 in ./.venv/lib/python3.12/site-packages (from spacy) (3.4.0)\n",
      "Requirement already satisfied: numpy>=1.19.0 in ./.venv/lib/python3.12/site-packages (from spacy) (1.26.4)\n",
      "Requirement already satisfied: language-data>=1.2 in ./.venv/lib/python3.12/site-packages (from langcodes<4.0.0,>=3.2.0->spacy) (1.2.0)\n",
      "Requirement already satisfied: annotated-types>=0.4.0 in ./.venv/lib/python3.12/site-packages (from pydantic!=1.8,!=1.8.1,<3.0.0,>=1.7.4->spacy) (0.7.0)\n",
      "Requirement already satisfied: pydantic-core==2.20.1 in ./.venv/lib/python3.12/site-packages (from pydantic!=1.8,!=1.8.1,<3.0.0,>=1.7.4->spacy) (2.20.1)\n",
      "Requirement already satisfied: typing-extensions>=4.6.1 in ./.venv/lib/python3.12/site-packages (from pydantic!=1.8,!=1.8.1,<3.0.0,>=1.7.4->spacy) (4.12.2)\n",
      "Requirement already satisfied: charset-normalizer<4,>=2 in ./.venv/lib/python3.12/site-packages (from requests<3.0.0,>=2.13.0->spacy) (3.3.2)\n",
      "Requirement already satisfied: idna<4,>=2.5 in ./.venv/lib/python3.12/site-packages (from requests<3.0.0,>=2.13.0->spacy) (3.7)\n",
      "Requirement already satisfied: urllib3<3,>=1.21.1 in ./.venv/lib/python3.12/site-packages (from requests<3.0.0,>=2.13.0->spacy) (2.2.2)\n",
      "Requirement already satisfied: certifi>=2017.4.17 in ./.venv/lib/python3.12/site-packages (from requests<3.0.0,>=2.13.0->spacy) (2024.7.4)\n",
      "Requirement already satisfied: blis<0.8.0,>=0.7.8 in ./.venv/lib/python3.12/site-packages (from thinc<8.3.0,>=8.2.2->spacy) (0.7.11)\n",
      "Requirement already satisfied: confection<1.0.0,>=0.0.1 in ./.venv/lib/python3.12/site-packages (from thinc<8.3.0,>=8.2.2->spacy) (0.1.5)\n",
      "Requirement already satisfied: click>=8.0.0 in ./.venv/lib/python3.12/site-packages (from typer<1.0.0,>=0.3.0->spacy) (8.1.7)\n",
      "Requirement already satisfied: shellingham>=1.3.0 in ./.venv/lib/python3.12/site-packages (from typer<1.0.0,>=0.3.0->spacy) (1.5.4)\n",
      "Requirement already satisfied: rich>=10.11.0 in ./.venv/lib/python3.12/site-packages (from typer<1.0.0,>=0.3.0->spacy) (13.7.1)\n",
      "Requirement already satisfied: cloudpathlib<1.0.0,>=0.7.0 in ./.venv/lib/python3.12/site-packages (from weasel<0.5.0,>=0.1.0->spacy) (0.18.1)\n",
      "Requirement already satisfied: smart-open<8.0.0,>=5.2.1 in ./.venv/lib/python3.12/site-packages (from weasel<0.5.0,>=0.1.0->spacy) (7.0.4)\n",
      "Requirement already satisfied: MarkupSafe>=2.0 in ./.venv/lib/python3.12/site-packages (from jinja2->spacy) (2.1.5)\n",
      "Requirement already satisfied: marisa-trie>=0.7.7 in ./.venv/lib/python3.12/site-packages (from language-data>=1.2->langcodes<4.0.0,>=3.2.0->spacy) (1.2.0)\n",
      "Requirement already satisfied: markdown-it-py>=2.2.0 in ./.venv/lib/python3.12/site-packages (from rich>=10.11.0->typer<1.0.0,>=0.3.0->spacy) (3.0.0)\n",
      "Requirement already satisfied: pygments<3.0.0,>=2.13.0 in ./.venv/lib/python3.12/site-packages (from rich>=10.11.0->typer<1.0.0,>=0.3.0->spacy) (2.18.0)\n",
      "Requirement already satisfied: wrapt in ./.venv/lib/python3.12/site-packages (from smart-open<8.0.0,>=5.2.1->weasel<0.5.0,>=0.1.0->spacy) (1.16.0)\n",
      "Requirement already satisfied: mdurl~=0.1 in ./.venv/lib/python3.12/site-packages (from markdown-it-py>=2.2.0->rich>=10.11.0->typer<1.0.0,>=0.3.0->spacy) (0.1.2)\n",
      "\n",
      "\u001b[1m[\u001b[0m\u001b[34;49mnotice\u001b[0m\u001b[1;39;49m]\u001b[0m\u001b[39;49m A new release of pip is available: \u001b[0m\u001b[31;49m24.0\u001b[0m\u001b[39;49m -> \u001b[0m\u001b[32;49m24.1.2\u001b[0m\n",
      "\u001b[1m[\u001b[0m\u001b[34;49mnotice\u001b[0m\u001b[1;39;49m]\u001b[0m\u001b[39;49m To update, run: \u001b[0m\u001b[32;49mpip install --upgrade pip\u001b[0m\n",
      "Note: you may need to restart the kernel to use updated packages.\n"
     ]
    }
   ],
   "source": [
    "%pip install spacy"
   ]
  },
  {
   "cell_type": "code",
   "execution_count": 10,
   "metadata": {},
   "outputs": [
    {
     "name": "stdout",
     "output_type": "stream",
     "text": [
      "Collecting en-core-web-sm==3.7.1\n",
      "  Downloading https://github.com/explosion/spacy-models/releases/download/en_core_web_sm-3.7.1/en_core_web_sm-3.7.1-py3-none-any.whl (12.8 MB)\n",
      "\u001b[2K     \u001b[90m━━━━━━━━━━━━━━━━━━━━━━━━━━━━━━━━━━━━━━━━\u001b[0m \u001b[32m12.8/12.8 MB\u001b[0m \u001b[31m36.3 MB/s\u001b[0m eta \u001b[36m0:00:00\u001b[0ma \u001b[36m0:00:01\u001b[0m\n",
      "\u001b[?25hRequirement already satisfied: spacy<3.8.0,>=3.7.2 in ./.venv/lib/python3.12/site-packages (from en-core-web-sm==3.7.1) (3.7.5)\n",
      "Requirement already satisfied: spacy-legacy<3.1.0,>=3.0.11 in ./.venv/lib/python3.12/site-packages (from spacy<3.8.0,>=3.7.2->en-core-web-sm==3.7.1) (3.0.12)\n",
      "Requirement already satisfied: spacy-loggers<2.0.0,>=1.0.0 in ./.venv/lib/python3.12/site-packages (from spacy<3.8.0,>=3.7.2->en-core-web-sm==3.7.1) (1.0.5)\n",
      "Requirement already satisfied: murmurhash<1.1.0,>=0.28.0 in ./.venv/lib/python3.12/site-packages (from spacy<3.8.0,>=3.7.2->en-core-web-sm==3.7.1) (1.0.10)\n",
      "Requirement already satisfied: cymem<2.1.0,>=2.0.2 in ./.venv/lib/python3.12/site-packages (from spacy<3.8.0,>=3.7.2->en-core-web-sm==3.7.1) (2.0.8)\n",
      "Requirement already satisfied: preshed<3.1.0,>=3.0.2 in ./.venv/lib/python3.12/site-packages (from spacy<3.8.0,>=3.7.2->en-core-web-sm==3.7.1) (3.0.9)\n",
      "Requirement already satisfied: thinc<8.3.0,>=8.2.2 in ./.venv/lib/python3.12/site-packages (from spacy<3.8.0,>=3.7.2->en-core-web-sm==3.7.1) (8.2.5)\n",
      "Requirement already satisfied: wasabi<1.2.0,>=0.9.1 in ./.venv/lib/python3.12/site-packages (from spacy<3.8.0,>=3.7.2->en-core-web-sm==3.7.1) (1.1.3)\n",
      "Requirement already satisfied: srsly<3.0.0,>=2.4.3 in ./.venv/lib/python3.12/site-packages (from spacy<3.8.0,>=3.7.2->en-core-web-sm==3.7.1) (2.4.8)\n",
      "Requirement already satisfied: catalogue<2.1.0,>=2.0.6 in ./.venv/lib/python3.12/site-packages (from spacy<3.8.0,>=3.7.2->en-core-web-sm==3.7.1) (2.0.10)\n",
      "Requirement already satisfied: weasel<0.5.0,>=0.1.0 in ./.venv/lib/python3.12/site-packages (from spacy<3.8.0,>=3.7.2->en-core-web-sm==3.7.1) (0.4.1)\n",
      "Requirement already satisfied: typer<1.0.0,>=0.3.0 in ./.venv/lib/python3.12/site-packages (from spacy<3.8.0,>=3.7.2->en-core-web-sm==3.7.1) (0.12.3)\n",
      "Requirement already satisfied: tqdm<5.0.0,>=4.38.0 in ./.venv/lib/python3.12/site-packages (from spacy<3.8.0,>=3.7.2->en-core-web-sm==3.7.1) (4.66.4)\n",
      "Requirement already satisfied: requests<3.0.0,>=2.13.0 in ./.venv/lib/python3.12/site-packages (from spacy<3.8.0,>=3.7.2->en-core-web-sm==3.7.1) (2.32.3)\n",
      "Requirement already satisfied: pydantic!=1.8,!=1.8.1,<3.0.0,>=1.7.4 in ./.venv/lib/python3.12/site-packages (from spacy<3.8.0,>=3.7.2->en-core-web-sm==3.7.1) (2.8.2)\n",
      "Requirement already satisfied: jinja2 in ./.venv/lib/python3.12/site-packages (from spacy<3.8.0,>=3.7.2->en-core-web-sm==3.7.1) (3.1.4)\n",
      "Requirement already satisfied: setuptools in ./.venv/lib/python3.12/site-packages (from spacy<3.8.0,>=3.7.2->en-core-web-sm==3.7.1) (70.2.0)\n",
      "Requirement already satisfied: packaging>=20.0 in ./.venv/lib/python3.12/site-packages (from spacy<3.8.0,>=3.7.2->en-core-web-sm==3.7.1) (24.1)\n",
      "Requirement already satisfied: langcodes<4.0.0,>=3.2.0 in ./.venv/lib/python3.12/site-packages (from spacy<3.8.0,>=3.7.2->en-core-web-sm==3.7.1) (3.4.0)\n",
      "Requirement already satisfied: numpy>=1.19.0 in ./.venv/lib/python3.12/site-packages (from spacy<3.8.0,>=3.7.2->en-core-web-sm==3.7.1) (1.26.4)\n",
      "Requirement already satisfied: language-data>=1.2 in ./.venv/lib/python3.12/site-packages (from langcodes<4.0.0,>=3.2.0->spacy<3.8.0,>=3.7.2->en-core-web-sm==3.7.1) (1.2.0)\n",
      "Requirement already satisfied: annotated-types>=0.4.0 in ./.venv/lib/python3.12/site-packages (from pydantic!=1.8,!=1.8.1,<3.0.0,>=1.7.4->spacy<3.8.0,>=3.7.2->en-core-web-sm==3.7.1) (0.7.0)\n",
      "Requirement already satisfied: pydantic-core==2.20.1 in ./.venv/lib/python3.12/site-packages (from pydantic!=1.8,!=1.8.1,<3.0.0,>=1.7.4->spacy<3.8.0,>=3.7.2->en-core-web-sm==3.7.1) (2.20.1)\n",
      "Requirement already satisfied: typing-extensions>=4.6.1 in ./.venv/lib/python3.12/site-packages (from pydantic!=1.8,!=1.8.1,<3.0.0,>=1.7.4->spacy<3.8.0,>=3.7.2->en-core-web-sm==3.7.1) (4.12.2)\n",
      "Requirement already satisfied: charset-normalizer<4,>=2 in ./.venv/lib/python3.12/site-packages (from requests<3.0.0,>=2.13.0->spacy<3.8.0,>=3.7.2->en-core-web-sm==3.7.1) (3.3.2)\n",
      "Requirement already satisfied: idna<4,>=2.5 in ./.venv/lib/python3.12/site-packages (from requests<3.0.0,>=2.13.0->spacy<3.8.0,>=3.7.2->en-core-web-sm==3.7.1) (3.7)\n",
      "Requirement already satisfied: urllib3<3,>=1.21.1 in ./.venv/lib/python3.12/site-packages (from requests<3.0.0,>=2.13.0->spacy<3.8.0,>=3.7.2->en-core-web-sm==3.7.1) (2.2.2)\n",
      "Requirement already satisfied: certifi>=2017.4.17 in ./.venv/lib/python3.12/site-packages (from requests<3.0.0,>=2.13.0->spacy<3.8.0,>=3.7.2->en-core-web-sm==3.7.1) (2024.7.4)\n",
      "Requirement already satisfied: blis<0.8.0,>=0.7.8 in ./.venv/lib/python3.12/site-packages (from thinc<8.3.0,>=8.2.2->spacy<3.8.0,>=3.7.2->en-core-web-sm==3.7.1) (0.7.11)\n",
      "Requirement already satisfied: confection<1.0.0,>=0.0.1 in ./.venv/lib/python3.12/site-packages (from thinc<8.3.0,>=8.2.2->spacy<3.8.0,>=3.7.2->en-core-web-sm==3.7.1) (0.1.5)\n",
      "Requirement already satisfied: click>=8.0.0 in ./.venv/lib/python3.12/site-packages (from typer<1.0.0,>=0.3.0->spacy<3.8.0,>=3.7.2->en-core-web-sm==3.7.1) (8.1.7)\n",
      "Requirement already satisfied: shellingham>=1.3.0 in ./.venv/lib/python3.12/site-packages (from typer<1.0.0,>=0.3.0->spacy<3.8.0,>=3.7.2->en-core-web-sm==3.7.1) (1.5.4)\n",
      "Requirement already satisfied: rich>=10.11.0 in ./.venv/lib/python3.12/site-packages (from typer<1.0.0,>=0.3.0->spacy<3.8.0,>=3.7.2->en-core-web-sm==3.7.1) (13.7.1)\n",
      "Requirement already satisfied: cloudpathlib<1.0.0,>=0.7.0 in ./.venv/lib/python3.12/site-packages (from weasel<0.5.0,>=0.1.0->spacy<3.8.0,>=3.7.2->en-core-web-sm==3.7.1) (0.18.1)\n",
      "Requirement already satisfied: smart-open<8.0.0,>=5.2.1 in ./.venv/lib/python3.12/site-packages (from weasel<0.5.0,>=0.1.0->spacy<3.8.0,>=3.7.2->en-core-web-sm==3.7.1) (7.0.4)\n",
      "Requirement already satisfied: MarkupSafe>=2.0 in ./.venv/lib/python3.12/site-packages (from jinja2->spacy<3.8.0,>=3.7.2->en-core-web-sm==3.7.1) (2.1.5)\n",
      "Requirement already satisfied: marisa-trie>=0.7.7 in ./.venv/lib/python3.12/site-packages (from language-data>=1.2->langcodes<4.0.0,>=3.2.0->spacy<3.8.0,>=3.7.2->en-core-web-sm==3.7.1) (1.2.0)\n",
      "Requirement already satisfied: markdown-it-py>=2.2.0 in ./.venv/lib/python3.12/site-packages (from rich>=10.11.0->typer<1.0.0,>=0.3.0->spacy<3.8.0,>=3.7.2->en-core-web-sm==3.7.1) (3.0.0)\n",
      "Requirement already satisfied: pygments<3.0.0,>=2.13.0 in ./.venv/lib/python3.12/site-packages (from rich>=10.11.0->typer<1.0.0,>=0.3.0->spacy<3.8.0,>=3.7.2->en-core-web-sm==3.7.1) (2.18.0)\n",
      "Requirement already satisfied: wrapt in ./.venv/lib/python3.12/site-packages (from smart-open<8.0.0,>=5.2.1->weasel<0.5.0,>=0.1.0->spacy<3.8.0,>=3.7.2->en-core-web-sm==3.7.1) (1.16.0)\n",
      "Requirement already satisfied: mdurl~=0.1 in ./.venv/lib/python3.12/site-packages (from markdown-it-py>=2.2.0->rich>=10.11.0->typer<1.0.0,>=0.3.0->spacy<3.8.0,>=3.7.2->en-core-web-sm==3.7.1) (0.1.2)\n",
      "\n",
      "\u001b[1m[\u001b[0m\u001b[34;49mnotice\u001b[0m\u001b[1;39;49m]\u001b[0m\u001b[39;49m A new release of pip is available: \u001b[0m\u001b[31;49m24.0\u001b[0m\u001b[39;49m -> \u001b[0m\u001b[32;49m24.1.2\u001b[0m\n",
      "\u001b[1m[\u001b[0m\u001b[34;49mnotice\u001b[0m\u001b[1;39;49m]\u001b[0m\u001b[39;49m To update, run: \u001b[0m\u001b[32;49mpip install --upgrade pip\u001b[0m\n",
      "\u001b[38;5;2m✔ Download and installation successful\u001b[0m\n",
      "You can now load the package via spacy.load('en_core_web_sm')\n"
     ]
    }
   ],
   "source": [
    "# Download the spaCy model, other models can be used as well, see https://spacy.io/usage/models\n",
    "\n",
    "!python -m spacy download en_core_web_sm"
   ]
  },
  {
   "cell_type": "code",
   "execution_count": 11,
   "metadata": {},
   "outputs": [],
   "source": [
    "import json\n",
    "from heapq import nlargest\n",
    "from typing import List, Dict, Any\n",
    "from collections import Counter\n",
    "\n",
    "import spacy\n",
    "from spacy.language import Language\n",
    "from spacy.tokens import Doc\n",
    "\n",
    "\n",
    "def extract_nlp_keywords(\n",
    "    text: str, num_keywords: int = 5, model: str = \"en_core_web_sm\"\n",
    ") -> Dict[str, Any]:\n",
    "    \"\"\"\n",
    "    Extract dates, person names, locations, and keywords from the given text using spaCy.\n",
    "\n",
    "    Args:\n",
    "    text (str): The input text to process.\n",
    "    num_keywords (int): The number of keywords to extract (default: 5).\n",
    "    model (str): The spaCy model to use (default: \"en_core_web_sm\").\n",
    "\n",
    "    Returns:\n",
    "    Dict[str, Any]: A dictionary containing extracted when, who, where, and keywords.\n",
    "    \"\"\"\n",
    "    # Load the language model\n",
    "    try:\n",
    "        nlp: Language = spacy.load(model)\n",
    "    except OSError:\n",
    "        raise ValueError(\n",
    "            f\"Could not load the spaCy model '{model}'. Make sure it's installed.\"\n",
    "        )\n",
    "\n",
    "    # Process the text\n",
    "    doc: Doc = nlp(text)\n",
    "\n",
    "    # Extract dates (when), person names (who), and locations (where)\n",
    "    when: List[str] = [ent.text for ent in doc.ents if ent.label_ == \"DATE\"]\n",
    "    who: List[str] = [ent.text for ent in doc.ents if ent.label_ == \"PERSON\"]\n",
    "    where: List[str] = [ent.text for ent in doc.ents if ent.label_ in (\"GPE\", \"LOC\")]\n",
    "\n",
    "    # Extract keywords\n",
    "    pos_tag: List[str] = [\"PROPN\", \"ADJ\", \"NOUN\", \"VERB\"]\n",
    "    keywords: List[str] = [\n",
    "        token.text\n",
    "        for token in doc\n",
    "        if not token.is_stop and not token.is_punct and token.pos_ in pos_tag\n",
    "    ]\n",
    "\n",
    "    # Count keyword frequencies and get top keywords\n",
    "    keyword_freq: Counter = Counter(keywords)\n",
    "    top_keywords: List[str] = [\n",
    "        word for word, _ in keyword_freq.most_common(num_keywords)\n",
    "    ]\n",
    "\n",
    "    # Create a dictionary with the extracted information\n",
    "    result: Dict[str, Any] = {\n",
    "        \"when\": list(set(when)),\n",
    "        \"who\": list(set(who)),\n",
    "        \"where\": list(set(where)),\n",
    "        \"keywords\": top_keywords,\n",
    "    }\n",
    "\n",
    "    return result"
   ]
  },
  {
   "cell_type": "code",
   "execution_count": 12,
   "metadata": {},
   "outputs": [
    {
     "name": "stdout",
     "output_type": "stream",
     "text": [
      "{'when': [], 'who': [], 'where': [], 'keywords': ['lottery', 'held']}\n"
     ]
    }
   ],
   "source": [
    "# extract keywords from query using spaCy\n",
    "\n",
    "query_keywords = extract_nlp_keywords(query)\n",
    "\n",
    "print(query_keywords)"
   ]
  },
  {
   "cell_type": "code",
   "execution_count": 13,
   "metadata": {},
   "outputs": [
    {
     "name": "stdout",
     "output_type": "stream",
     "text": [
      "Paragraph 1: “The Lottery [abridged]” (1948)--- By Shirley Jackson The people of the village began to gather in the square, between the post office and the bank, around ten o'clock; in some towns there were so many people that the lottery took two days and had to be started on June 2nd.\n",
      "Similarity: 1.998777831130354\n",
      "Paragraph 2: But in this village, where there were only about three hundred people, the whole lottery took less than two hours, so it could begin at ten o'clock in the morning and still be through in time to allow the villagers to get home for noon dinner. The children assembled first, of course.\n",
      "Similarity: 1.9717036908971395\n",
      "Paragraph 3: Bobby Martin had already stuffed his pockets full of stones, and the other boys soon followed his example, selecting the smoothest and roundest stones; Bobby and Harry Jones and Dickie Delacroix-- the villagers pronounced this name \"Dellacroy\"--eventually made a great pile of stones in one corner of the square and guarded it against the raids of the other boys. The lottery was conducted--as were the square dances, the teen club, the Halloween program--by Mr.\n",
      "Similarity: 1.7160188965368235\n",
      "Paragraph 4: Summers, who had time and energy to devote to civic activities. When he arrived in the square, carrying the black wooden box, there was a murmur of conversation among the villagers, and he waved and called, \"Little late today, folks. \" There was a great deal of fussing to be done before Mr. Summers declared the lottery open. There were the lists to make up--of heads of families- heads of households in each family. There was the proper swearing-in of Mr.\n",
      "Similarity: 1.6480201167331245\n",
      "Paragraph 14: \" \"All right, then,\" Mr. Summers said. \"Harry, you got their tickets back?\" Mr. Graves nodded and held up the slips of paper. \"Put them in the box, then,\" Mr. Summers directed. \"Take Bill's and put it in. \" \"I think we ought to start over,\" Mrs. Hutchinson said, as quietly as she could. \"I tell you it wasn't fair. You didn't give him time enough to choose. Everybody saw that. \" Mr.\n",
      "Similarity: 1.199433678582811\n"
     ]
    }
   ],
   "source": [
    "# bm25 search with extracted keywords \n",
    "\n",
    "extracted_keywords = \" \".join(query_keywords[\"keywords\"])\n",
    "results = search_engine.bm25_search(extracted_keywords, paragraphs)\n",
    "\n",
    "result_paragraph = []\n",
    "for idx, result in enumerate(results):\n",
    "    paragraph_idx = result[0]\n",
    "    print(f\"Paragraph {result[0]+1}: {paragraphs[paragraph_idx]}\")\n",
    "    print(f\"Similarity: {result[1]}\")\n",
    "    result_paragraph.append(paragraphs[paragraph_idx])"
   ]
  },
  {
   "cell_type": "code",
   "execution_count": 14,
   "metadata": {},
   "outputs": [
    {
     "name": "stdout",
     "output_type": "stream",
     "text": [
      "Requirement already satisfied: openai in ./.venv/lib/python3.12/site-packages (1.35.10)\n",
      "Requirement already satisfied: anyio<5,>=3.5.0 in ./.venv/lib/python3.12/site-packages (from openai) (4.4.0)\n",
      "Requirement already satisfied: distro<2,>=1.7.0 in ./.venv/lib/python3.12/site-packages (from openai) (1.9.0)\n",
      "Requirement already satisfied: httpx<1,>=0.23.0 in ./.venv/lib/python3.12/site-packages (from openai) (0.27.0)\n",
      "Requirement already satisfied: pydantic<3,>=1.9.0 in ./.venv/lib/python3.12/site-packages (from openai) (2.8.2)\n",
      "Requirement already satisfied: sniffio in ./.venv/lib/python3.12/site-packages (from openai) (1.3.1)\n",
      "Requirement already satisfied: tqdm>4 in ./.venv/lib/python3.12/site-packages (from openai) (4.66.4)\n",
      "Requirement already satisfied: typing-extensions<5,>=4.7 in ./.venv/lib/python3.12/site-packages (from openai) (4.12.2)\n",
      "Requirement already satisfied: idna>=2.8 in ./.venv/lib/python3.12/site-packages (from anyio<5,>=3.5.0->openai) (3.7)\n",
      "Requirement already satisfied: certifi in ./.venv/lib/python3.12/site-packages (from httpx<1,>=0.23.0->openai) (2024.7.4)\n",
      "Requirement already satisfied: httpcore==1.* in ./.venv/lib/python3.12/site-packages (from httpx<1,>=0.23.0->openai) (1.0.5)\n",
      "Requirement already satisfied: h11<0.15,>=0.13 in ./.venv/lib/python3.12/site-packages (from httpcore==1.*->httpx<1,>=0.23.0->openai) (0.14.0)\n",
      "Requirement already satisfied: annotated-types>=0.4.0 in ./.venv/lib/python3.12/site-packages (from pydantic<3,>=1.9.0->openai) (0.7.0)\n",
      "Requirement already satisfied: pydantic-core==2.20.1 in ./.venv/lib/python3.12/site-packages (from pydantic<3,>=1.9.0->openai) (2.20.1)\n",
      "\n",
      "\u001b[1m[\u001b[0m\u001b[34;49mnotice\u001b[0m\u001b[1;39;49m]\u001b[0m\u001b[39;49m A new release of pip is available: \u001b[0m\u001b[31;49m24.0\u001b[0m\u001b[39;49m -> \u001b[0m\u001b[32;49m24.1.2\u001b[0m\n",
      "\u001b[1m[\u001b[0m\u001b[34;49mnotice\u001b[0m\u001b[1;39;49m]\u001b[0m\u001b[39;49m To update, run: \u001b[0m\u001b[32;49mpip install --upgrade pip\u001b[0m\n",
      "Note: you may need to restart the kernel to use updated packages.\n"
     ]
    }
   ],
   "source": [
    "# Install OpenAI Python package\n",
    "\n",
    "%pip install openai"
   ]
  },
  {
   "cell_type": "code",
   "execution_count": 15,
   "metadata": {},
   "outputs": [
    {
     "name": "stdout",
     "output_type": "stream",
     "text": [
      "The lottery is held on June 27th.\n"
     ]
    }
   ],
   "source": [
    "# Generate answer with OpenAI API\n",
    "\n",
    "from openai import OpenAI\n",
    "\n",
    "client = OpenAI()\n",
    "\n",
    "context = result_paragraph\n",
    "\n",
    "full_query = f\"\"\"Use the below context to answer the subsequent question. If the answer cannot be found, write \"I don't know.\"\n",
    "\n",
    "Article:\n",
    "\\\"\\\"\\\"\n",
    "{context}\n",
    "\\\"\\\"\\\"\n",
    "\n",
    "Question: {query}\"\"\"\n",
    "\n",
    "response = client.chat.completions.create(\n",
    "    messages=[\n",
    "        {\n",
    "            \"role\": \"system\",\n",
    "            \"content\": \"You answer questions for the user.\",\n",
    "        },\n",
    "        {\"role\": \"user\", \"content\": full_query},\n",
    "    ],\n",
    "    model=\"gpt-4-turbo\",\n",
    "    temperature=0,\n",
    ")\n",
    "\n",
    "print(response.choices[0].message.content)"
   ]
  },
  {
   "cell_type": "markdown",
   "metadata": {},
   "source": [
    "# Conclusion: Powerful RAG Without Embeddings\n",
    "\n",
    "In this notebook, we've explored three powerful techniques that enable us to build effective Retrieval-Augmented Generation (RAG) systems without relying on embeddings:\n",
    "\n",
    "1. **BM25 (Best Matching 25)**\n",
    "   - A robust ranking function for information retrieval\n",
    "   - Balances term frequency, inverse document frequency, and document length\n",
    "   - Provides efficient and interpretable search results\n",
    "\n",
    "2. **Reranking**\n",
    "   - Refines initial search results for improved relevance\n",
    "   - Combines fast initial retrieval with more sophisticated ranking\n",
    "   - Enhances the quality of retrieved context for RAG systems\n",
    "\n",
    "3. **NLP(Natural Language Processing) with spaCy**\n",
    "   - Offers deterministic keyword extraction and named entity recognition\n",
    "   - Provides efficient, lightweight models for various NLP tasks\n",
    "   - Enables consistent and debuggable text analysis\n",
    "\n",
    "By leveraging these techniques, we've demonstrated that it's possible to create highly effective RAG systems without the need for complex embedding models. This approach offers several advantages:\n",
    "\n",
    "- **Efficiency**: These methods often require less computational resources than embedding-based approaches.\n",
    "- **Interpretability**: The logic behind BM25 and rule-based NLP is easier to understand and debug.\n",
    "- **Flexibility**: Each component can be fine-tuned or replaced to suit specific use cases.\n",
    "- **Consistency**: Deterministic results from spaCy provide reproducible outcomes.\n",
    "\n",
    "As you continue to develop RAG systems, consider how these techniques can be combined or adapted to meet your specific needs. Remember, the best approach often depends on your particular use case, data, and performance requirements.\n",
    "\n",
    "Next steps for exploration:\n",
    "- Experiment with different BM25 parameters\n",
    "- Implement custom reranking algorithms\n",
    "- Explore advanced spaCy pipelines for more complex NLP tasks\n",
    "\n",
    "By mastering these techniques, you're well-equipped to build sophisticated RAG systems that are both powerful and efficient. Keep experimenting and refining your approach!"
   ]
  }
 ],
 "metadata": {
  "kernelspec": {
   "display_name": ".venv",
   "language": "python",
   "name": "python3"
  },
  "language_info": {
   "codemirror_mode": {
    "name": "ipython",
    "version": 3
   },
   "file_extension": ".py",
   "mimetype": "text/x-python",
   "name": "python",
   "nbconvert_exporter": "python",
   "pygments_lexer": "ipython3",
   "version": "3.12.4"
  }
 },
 "nbformat": 4,
 "nbformat_minor": 2
}
