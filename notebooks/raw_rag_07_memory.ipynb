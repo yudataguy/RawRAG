{
 "cells": [
  {
   "cell_type": "markdown",
   "metadata": {},
   "source": [
    "# Raw RAG 07: Total Recall (Memory)\n",
    "\n",
    "## Introduction\n",
    "\n",
    "Memory is a cornerstone of intelligence, whether we're talking about human cognition or artificial systems. In the realm of Retrieval-Augmented Generation (RAG), implementing effective memory mechanisms can significantly enhance the quality and coherence of AI-generated responses. This notebook explores a fundamental approach to incorporating memory into your RAG system.\n",
    "\n",
    "### What We'll Cover\n",
    "\n",
    "In this notebook, we'll demonstrate a straightforward method to implement memory in Python. Our approach builds upon concepts introduced in earlier levels, particularly the summarization techniques from Level 06. Here's what you can expect:\n",
    "\n",
    "1. **Basic Memory Process**: We'll implement a simple yet effective memory system that summarizes previous interactions and uses them as context for future responses.\n",
    "\n",
    "2. **Similarities to Summarization**: You'll see how this memory method relates to the summarization techniques we've explored before, creating a bridge between different RAG components.\n",
    "\n",
    "3. **Foundation for Advanced Techniques**: While we're starting with a basic implementation, this serves as a stepping stone towards more sophisticated memory systems.\n",
    "\n",
    "### Important Considerations\n",
    "\n",
    "As you work through this notebook, keep the following points in mind:\n",
    "\n",
    "- **Starting Point**: This implementation represents a basic memory process. It's an excellent foundation, but there's room for significant enhancement.\n",
    "\n",
    "- **Future Improvements**: We'll briefly touch on the potential for embedded search in long-term memory, which can greatly expand the capabilities of your RAG system.\n",
    "\n",
    "- **Enhancing Accuracy**: By incorporating metadata and other contextual information, you can further improve the accuracy and relevance of retrieved memories.\n",
    "\n",
    "- **Context Window Limitations**: Our current approach is designed with typical context window constraints in mind. As language models evolve and context windows expand, our strategies for memory management may shift dramatically.\n",
    "\n",
    "### Looking Ahead\n",
    "\n",
    "While this notebook focuses on a fundamental memory implementation, the field of AI is rapidly evolving. We may soon see developments that allow for much larger context windows at lower costs, potentially revolutionizing how we approach memory in RAG systems. Until then, mastering these basic techniques will provide a solid foundation for building more advanced and efficient AI systems.\n",
    "\n",
    "Let's dive in and explore how we can give our RAG system a memory, enhancing its ability to maintain context and generate more coherent, contextually relevant responses!"
   ]
  },
  {
   "cell_type": "code",
   "execution_count": 1,
   "metadata": {},
   "outputs": [
    {
     "name": "stdout",
     "output_type": "stream",
     "text": [
      "Requirement already satisfied: openai in ./.venv/lib/python3.12/site-packages (1.35.10)\n",
      "Requirement already satisfied: python-dotenv in ./.venv/lib/python3.12/site-packages (1.0.1)\n",
      "Requirement already satisfied: anyio<5,>=3.5.0 in ./.venv/lib/python3.12/site-packages (from openai) (4.4.0)\n",
      "Requirement already satisfied: distro<2,>=1.7.0 in ./.venv/lib/python3.12/site-packages (from openai) (1.9.0)\n",
      "Requirement already satisfied: httpx<1,>=0.23.0 in ./.venv/lib/python3.12/site-packages (from openai) (0.27.0)\n",
      "Requirement already satisfied: pydantic<3,>=1.9.0 in ./.venv/lib/python3.12/site-packages (from openai) (2.8.2)\n",
      "Requirement already satisfied: sniffio in ./.venv/lib/python3.12/site-packages (from openai) (1.3.1)\n",
      "Requirement already satisfied: tqdm>4 in ./.venv/lib/python3.12/site-packages (from openai) (4.66.4)\n",
      "Requirement already satisfied: typing-extensions<5,>=4.7 in ./.venv/lib/python3.12/site-packages (from openai) (4.12.2)\n",
      "Requirement already satisfied: idna>=2.8 in ./.venv/lib/python3.12/site-packages (from anyio<5,>=3.5.0->openai) (3.7)\n",
      "Requirement already satisfied: certifi in ./.venv/lib/python3.12/site-packages (from httpx<1,>=0.23.0->openai) (2024.7.4)\n",
      "Requirement already satisfied: httpcore==1.* in ./.venv/lib/python3.12/site-packages (from httpx<1,>=0.23.0->openai) (1.0.5)\n",
      "Requirement already satisfied: h11<0.15,>=0.13 in ./.venv/lib/python3.12/site-packages (from httpcore==1.*->httpx<1,>=0.23.0->openai) (0.14.0)\n",
      "Requirement already satisfied: annotated-types>=0.4.0 in ./.venv/lib/python3.12/site-packages (from pydantic<3,>=1.9.0->openai) (0.7.0)\n",
      "Requirement already satisfied: pydantic-core==2.20.1 in ./.venv/lib/python3.12/site-packages (from pydantic<3,>=1.9.0->openai) (2.20.1)\n",
      "\n",
      "\u001b[1m[\u001b[0m\u001b[34;49mnotice\u001b[0m\u001b[1;39;49m]\u001b[0m\u001b[39;49m A new release of pip is available: \u001b[0m\u001b[31;49m24.0\u001b[0m\u001b[39;49m -> \u001b[0m\u001b[32;49m24.1.2\u001b[0m\n",
      "\u001b[1m[\u001b[0m\u001b[34;49mnotice\u001b[0m\u001b[1;39;49m]\u001b[0m\u001b[39;49m To update, run: \u001b[0m\u001b[32;49mpip install --upgrade pip\u001b[0m\n",
      "Note: you may need to restart the kernel to use updated packages.\n"
     ]
    }
   ],
   "source": [
    "%pip install openai python-dotenv"
   ]
  },
  {
   "cell_type": "code",
   "execution_count": 2,
   "metadata": {},
   "outputs": [
    {
     "data": {
      "text/plain": [
       "True"
      ]
     },
     "execution_count": 2,
     "metadata": {},
     "output_type": "execute_result"
    }
   ],
   "source": [
    "# Load the environment variables from the .env file\n",
    "\n",
    "from dotenv import load_dotenv\n",
    "import os\n",
    "\n",
    "# Specify the path to your .env file if it's not in the same directory\n",
    "dotenv_path = \".env\"\n",
    "load_dotenv(dotenv_path=dotenv_path)"
   ]
  },
  {
   "cell_type": "code",
   "execution_count": 3,
   "metadata": {},
   "outputs": [],
   "source": [
    "from openai import OpenAI\n",
    "\n",
    "client = OpenAI()"
   ]
  },
  {
   "cell_type": "code",
   "execution_count": 4,
   "metadata": {},
   "outputs": [],
   "source": [
    "# Create basic memory method for ChatGPT API calls\n",
    "\n",
    "def initialize_conversation():\n",
    "    return [\n",
    "        {\n",
    "            \"role\": \"system\",\n",
    "            \"content\": \"You are a helpful assistant. You are being provided with the conversation history for context. Each new interaction builds upon this history.\",\n",
    "        }\n",
    "    ]\n",
    "\n",
    "\n",
    "def add_to_history(history, role, content):\n",
    "    history.append({\"role\": role, \"content\": content})\n",
    "    return history\n",
    "\n",
    "\n",
    "def get_response(history, user_input, model=\"gpt-4-turbo\"):\n",
    "    # Add user input to the conversation history\n",
    "    history = add_to_history(history, \"user\", user_input)\n",
    "\n",
    "    # Make the API call\n",
    "    response = client.chat.completions.create(model=model, messages=history)\n",
    "\n",
    "    # Extract the assistant's reply\n",
    "    assistant_reply = response.choices[0].message.content\n",
    "\n",
    "    # Add the assistant's reply to the conversation history\n",
    "    history = add_to_history(history, \"assistant\", assistant_reply)\n",
    "\n",
    "    return history, assistant_reply\n",
    "\n",
    "\n",
    "def display_conversation(history):\n",
    "    for message in history[1:]:  # Skip the system message\n",
    "        print(f\"{message['role'].capitalize()}: {message['content']}\")\n"
   ]
  },
  {
   "cell_type": "code",
   "execution_count": 5,
   "metadata": {},
   "outputs": [
    {
     "name": "stdout",
     "output_type": "stream",
     "text": [
      "Question 1: Are you familiar with the novel The Dead by James Joyce?\n",
      "Answer 1: Yes, I am familiar with \"The Dead.\" It's actually a novella and the final story in James Joyce's collection titled *Dubliners*, which was published in 1914. \"The Dead\" is considered one of Joyce's most famous works of short fiction, noted for its intricate depiction of social life and the intricacies of human feelings and relationships. The story takes place in early January in Dublin and centers around Gabriel Conroy, who attends a festive gathering with his wife Gretta. The evening culminates in a poignant revelation that leads Gabriel to deeper reflections on his life, love, and the inevitability of death. Would you like to dive into some specific aspects of the story?\n",
      "\n",
      "Question 2: Please give me a 500 words summary of the novel.\n",
      "Answer 2: \"The Dead,\" the longest and final story in James Joyce's *Dubliners*, masterfully encapsulates themes of lost opportunities and the subtle but profound revelations of everyday life. The narrative unfolds during an annual Epiphany party hosted by the elderly Morkan sisters, Kate and Julia, along with their niece Mary Jane, in early 20th century Dublin.\n",
      "\n",
      "The protagonist, Gabriel Conroy, an educated and somewhat self-conscious teacher and writer, attends this gathering with his wife, Gretta. Throughout the evening, various interactions reveal Gabriel’s complacency and detachment from the other guests and Irish life in general, hinting at his emotional and cultural estrangement.\n",
      "\n",
      "The evening progresses with lively music, dancing, and a sumptuous dinner during which Gabriel is to deliver his customary toast. His speech, filled with clichéd references to traditional Irish hospitality and praise for the three hostesses, showcases his ambition to appear sophisticated but also underscores his disconnect from the others who are more genuine and spontaneous in their enjoyment of the evening.\n",
      "\n",
      "As the party ends and the guests begin to leave, a poignant tenor performance of an old Irish song by another guest, Bartell D’Arcy, captures Gretta’s attention deeply. Observing her unusual emotional response to the song, Gabriel feels a mixture of anticipation and confusion, hoping for a romantic night as the couple makes their way to their hotel in the falling snow.\n",
      "\n",
      "In their hotel room, Gretta reveals the source of her emotion: the song was associated with her first love, a boy named Michael Furey, who died young. She recounts how Furey, passionately in love with her, would sing that song and how he tragically died after waiting for her in the cold. This revelation shocks Gabriel, who had been complacent in his assumptions about his wife’s feelings and past.\n",
      "\n",
      "This epiphany leads to Gabriel’s introspective journey where he confronts his own mediocrity, his disconnectedness from Irish life, and the death that surrounds all beings. The personal becomes universal as he reflects on the inevitability of death and the continuance of life through remembrances and the everyday acts of living. \n",
      "\n",
      "As the novella ends, Joyce shifts from the personal crisis of Gabriel to an evocative, lyrical description of the Irish landscape covered in snow, implying a kind of universality and interconnectedness of all the Irish people, the living and the dead. The falling snow over Ireland symbolizes both the paralysis and the potential for renewal, encapsulating the profound themes of the entire collection.\n",
      "\n",
      "In \"The Dead,\" Joyce achieves a narrative that is rich in dialogue and internal monologue, capturing a poignant moment of revelation and transformation. Through Gabriel Conroy, Joyce explores complex themes of identity, nationalism, and existential solitude, making this story a compelling conclusion to *Dubliners* and a powerful exploration of the human condition.\n",
      "\n",
      "Question 3: What does the main character realize at the end of the story?\n",
      "Answer 3: At the end of \"The Dead,\" the main character, Gabriel Conroy, experiences a profound personal awakening and realizes several interconnected truths about life, love, and death:\n",
      "\n",
      "1. **Self-Realization:**\n",
      "   Gabriel realizes that he has been living somewhat superficially, priding himself on his intellect and looking down on his more provincial relatives and friends. His interactions during the party and Gretta’s story make him see that he is out of touch with those around him and perhaps with his own emotions.\n",
      "\n",
      "2. **Love and Reminiscence:**\n",
      "   Gabriel is deeply moved and disturbed by the revelation of Gretta’s poignant memories of her first love, Michael Furey. He realizes that he has never felt or inspired such intense feelings of love as Gretta did for Furey, who even risked his health and ultimately sacrificed his life out of love for her. This revelation makes Gabriel question the depth and passion in his own life.\n",
      "\n",
      "3. **The Inevitability of Death:**\n",
      "   Gabriel’s thoughts gravitate toward the inescapability of death. The story of Michael Furey, along with his aunts aging (particularly noticeable in Julia’s weakening voice) and the historical figures mentioned during the party, all contribute to his heightened awareness of mortality. He considers how death ultimately unites everyone, leveling the superficial distinctions that people make among themselves during life.\n",
      "\n",
      "4. **Universal Connection and Isolation:**\n",
      "   As he watches the snow falling across Ireland, Gabriel feels a simultaneous connection with and isolation from the people around him. This snow, falling everywhere on the living and the dead, symbolizes the universal experiences of life and death. It suggests a shared destiny for all who live and die, thereby connecting everyone in a silent yet profound existential equality.\n",
      "\n",
      "5. **A Broader Perspective:**\n",
      "   Gabriel reflects on his own life and experiences in the context of the broader human experience. This reflective moment is both humbling and expanding, pushing him to think beyond his personal feelings and experiences to acknowledge a wider perspective where individual lives intersect against a background of shared history and destiny.\n",
      "\n",
      "These revelations lead to a muted but significant transformation in Gabriel, who comes to see himself and his life in a more honest and possibly less flattering light, but with potential for greater understanding and empathy. This epiphany, while subtle, is crucial, marking a shift from self-centeredness to a more contemplative and comprehensive view of life's complexities.\n",
      "\n",
      "Full Conversation History:\n",
      "User: Are you familiar with the novel The Dead by James Joyce?\n",
      "Assistant: Yes, I am familiar with \"The Dead.\" It's actually a novella and the final story in James Joyce's collection titled *Dubliners*, which was published in 1914. \"The Dead\" is considered one of Joyce's most famous works of short fiction, noted for its intricate depiction of social life and the intricacies of human feelings and relationships. The story takes place in early January in Dublin and centers around Gabriel Conroy, who attends a festive gathering with his wife Gretta. The evening culminates in a poignant revelation that leads Gabriel to deeper reflections on his life, love, and the inevitability of death. Would you like to dive into some specific aspects of the story?\n",
      "User: Please give me a 500 words summary of the novel.\n",
      "Assistant: \"The Dead,\" the longest and final story in James Joyce's *Dubliners*, masterfully encapsulates themes of lost opportunities and the subtle but profound revelations of everyday life. The narrative unfolds during an annual Epiphany party hosted by the elderly Morkan sisters, Kate and Julia, along with their niece Mary Jane, in early 20th century Dublin.\n",
      "\n",
      "The protagonist, Gabriel Conroy, an educated and somewhat self-conscious teacher and writer, attends this gathering with his wife, Gretta. Throughout the evening, various interactions reveal Gabriel’s complacency and detachment from the other guests and Irish life in general, hinting at his emotional and cultural estrangement.\n",
      "\n",
      "The evening progresses with lively music, dancing, and a sumptuous dinner during which Gabriel is to deliver his customary toast. His speech, filled with clichéd references to traditional Irish hospitality and praise for the three hostesses, showcases his ambition to appear sophisticated but also underscores his disconnect from the others who are more genuine and spontaneous in their enjoyment of the evening.\n",
      "\n",
      "As the party ends and the guests begin to leave, a poignant tenor performance of an old Irish song by another guest, Bartell D’Arcy, captures Gretta’s attention deeply. Observing her unusual emotional response to the song, Gabriel feels a mixture of anticipation and confusion, hoping for a romantic night as the couple makes their way to their hotel in the falling snow.\n",
      "\n",
      "In their hotel room, Gretta reveals the source of her emotion: the song was associated with her first love, a boy named Michael Furey, who died young. She recounts how Furey, passionately in love with her, would sing that song and how he tragically died after waiting for her in the cold. This revelation shocks Gabriel, who had been complacent in his assumptions about his wife’s feelings and past.\n",
      "\n",
      "This epiphany leads to Gabriel’s introspective journey where he confronts his own mediocrity, his disconnectedness from Irish life, and the death that surrounds all beings. The personal becomes universal as he reflects on the inevitability of death and the continuance of life through remembrances and the everyday acts of living. \n",
      "\n",
      "As the novella ends, Joyce shifts from the personal crisis of Gabriel to an evocative, lyrical description of the Irish landscape covered in snow, implying a kind of universality and interconnectedness of all the Irish people, the living and the dead. The falling snow over Ireland symbolizes both the paralysis and the potential for renewal, encapsulating the profound themes of the entire collection.\n",
      "\n",
      "In \"The Dead,\" Joyce achieves a narrative that is rich in dialogue and internal monologue, capturing a poignant moment of revelation and transformation. Through Gabriel Conroy, Joyce explores complex themes of identity, nationalism, and existential solitude, making this story a compelling conclusion to *Dubliners* and a powerful exploration of the human condition.\n",
      "User: What does the main character realize at the end of the story?\n",
      "Assistant: At the end of \"The Dead,\" the main character, Gabriel Conroy, experiences a profound personal awakening and realizes several interconnected truths about life, love, and death:\n",
      "\n",
      "1. **Self-Realization:**\n",
      "   Gabriel realizes that he has been living somewhat superficially, priding himself on his intellect and looking down on his more provincial relatives and friends. His interactions during the party and Gretta’s story make him see that he is out of touch with those around him and perhaps with his own emotions.\n",
      "\n",
      "2. **Love and Reminiscence:**\n",
      "   Gabriel is deeply moved and disturbed by the revelation of Gretta’s poignant memories of her first love, Michael Furey. He realizes that he has never felt or inspired such intense feelings of love as Gretta did for Furey, who even risked his health and ultimately sacrificed his life out of love for her. This revelation makes Gabriel question the depth and passion in his own life.\n",
      "\n",
      "3. **The Inevitability of Death:**\n",
      "   Gabriel’s thoughts gravitate toward the inescapability of death. The story of Michael Furey, along with his aunts aging (particularly noticeable in Julia’s weakening voice) and the historical figures mentioned during the party, all contribute to his heightened awareness of mortality. He considers how death ultimately unites everyone, leveling the superficial distinctions that people make among themselves during life.\n",
      "\n",
      "4. **Universal Connection and Isolation:**\n",
      "   As he watches the snow falling across Ireland, Gabriel feels a simultaneous connection with and isolation from the people around him. This snow, falling everywhere on the living and the dead, symbolizes the universal experiences of life and death. It suggests a shared destiny for all who live and die, thereby connecting everyone in a silent yet profound existential equality.\n",
      "\n",
      "5. **A Broader Perspective:**\n",
      "   Gabriel reflects on his own life and experiences in the context of the broader human experience. This reflective moment is both humbling and expanding, pushing him to think beyond his personal feelings and experiences to acknowledge a wider perspective where individual lives intersect against a background of shared history and destiny.\n",
      "\n",
      "These revelations lead to a muted but significant transformation in Gabriel, who comes to see himself and his life in a more honest and possibly less flattering light, but with potential for greater understanding and empathy. This epiphany, while subtle, is crucial, marking a shift from self-centeredness to a more contemplative and comprehensive view of life's complexities.\n"
     ]
    }
   ],
   "source": [
    "def chat_with_questions(questions):\n",
    "    conversation_history = initialize_conversation()\n",
    "\n",
    "    for i, question in enumerate(questions, 1):\n",
    "        print(f\"Question {i}: {question}\")\n",
    "        conversation_history, response = get_response(conversation_history, question)\n",
    "        print(f\"Answer {i}: {response}\\n\")\n",
    "\n",
    "    return conversation_history\n",
    "\n",
    "\n",
    "questions = [\n",
    "    \"Are you familiar with the novel The Dead by James Joyce?\",\n",
    "    \"Please give me a 500 words summary of the novel.\",\n",
    "    \"What does the main character realize at the end of the story?\",\n",
    "]\n",
    "\n",
    "final_history = chat_with_questions(questions)\n",
    "\n",
    "print(\"Full Conversation History:\")\n",
    "for message in final_history[1:]:  \n",
    "    print(f\"{message['role'].capitalize()}: {message['content']}\")"
   ]
  },
  {
   "cell_type": "markdown",
   "metadata": {},
   "source": [
    "Working in Progress: Embedding long term memory retrieval system."
   ]
  },
  {
   "cell_type": "markdown",
   "metadata": {},
   "source": [
    "## Conclusion: The Power of Memory in RAG Systems\n",
    "\n",
    "As demonstrated throughout our experiments, the implementation of memory in our RAG system has significantly enhanced its capabilities. Even without explicit keywords in subsequent prompts, our LLM was able to maintain context and provide accurate, relevant responses to follow-up questions about the novel.\n",
    "\n",
    "Key takeaways from this notebook:\n",
    "\n",
    "1. **Context Retention**: Memory allows the system to maintain important information across multiple interactions.\n",
    "2. **Improved Coherence**: Responses become more coherent and contextually appropriate over the course of a conversation.\n",
    "3. **Efficiency**: By leveraging memory, we reduce the need for repetitive information in prompts, streamlining the interaction process.\n",
    "4. **Foundation for Advanced Techniques**: This basic implementation serves as a stepping stone towards more sophisticated memory management in RAG systems.\n",
    "\n",
    "While this notebook provides a solid foundation for implementing memory in RAG systems, it's important to note that this is an evolving field with immense potential for further development. Future iterations may explore:\n",
    "\n",
    "- Long-term memory storage and retrieval techniques\n",
    "- Integration of metadata for more nuanced context understanding\n",
    "- Adaptive memory management based on conversation relevance\n",
    "- Optimization for expanding context windows in newer language models\n",
    "\n",
    "As we continue to refine and expand upon these concepts, the capabilities of our RAG systems will undoubtedly grow, leading to even more powerful and intuitive AI-assisted interactions.\n",
    "\n",
    "Stay tuned for future updates and enhancements to this notebook as we delve deeper into the exciting world of memory-augmented RAG systems!"
   ]
  }
 ],
 "metadata": {
  "kernelspec": {
   "display_name": ".venv",
   "language": "python",
   "name": "python3"
  },
  "language_info": {
   "codemirror_mode": {
    "name": "ipython",
    "version": 3
   },
   "file_extension": ".py",
   "mimetype": "text/x-python",
   "name": "python",
   "nbconvert_exporter": "python",
   "pygments_lexer": "ipython3",
   "version": "3.12.4"
  }
 },
 "nbformat": 4,
 "nbformat_minor": 2
}
