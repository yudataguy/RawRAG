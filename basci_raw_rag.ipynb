{
 "cells": [
  {
   "cell_type": "markdown",
   "metadata": {},
   "source": [
    "# Raw Rag - Level 1: Basic\n",
    "\n",
    "In this notebook, we will go through the following simple steps:\n",
    "\n",
    "1. Read the input data\n",
    "2. Create embeddings\n",
    "3. Store the embeddings in database\n",
    "4. Retrieve the embeddings based on query\n",
    "5. Generate the output based on the query and the retrieved context \n",
    "\n"
   ]
  },
  {
   "cell_type": "code",
   "execution_count": 15,
   "metadata": {},
   "outputs": [
    {
     "name": "stdout",
     "output_type": "stream",
     "text": [
      "Requirement already satisfied: openai in ./.venv/lib/python3.12/site-packages (1.35.10)\n",
      "Requirement already satisfied: faiss-cpu in ./.venv/lib/python3.12/site-packages (1.8.0.post1)\n",
      "Requirement already satisfied: numpy in ./.venv/lib/python3.12/site-packages (1.26.4)\n",
      "Requirement already satisfied: anyio<5,>=3.5.0 in ./.venv/lib/python3.12/site-packages (from openai) (4.4.0)\n",
      "Requirement already satisfied: distro<2,>=1.7.0 in ./.venv/lib/python3.12/site-packages (from openai) (1.9.0)\n",
      "Requirement already satisfied: httpx<1,>=0.23.0 in ./.venv/lib/python3.12/site-packages (from openai) (0.27.0)\n",
      "Requirement already satisfied: pydantic<3,>=1.9.0 in ./.venv/lib/python3.12/site-packages (from openai) (2.8.2)\n",
      "Requirement already satisfied: sniffio in ./.venv/lib/python3.12/site-packages (from openai) (1.3.1)\n",
      "Requirement already satisfied: tqdm>4 in ./.venv/lib/python3.12/site-packages (from openai) (4.66.4)\n",
      "Requirement already satisfied: typing-extensions<5,>=4.7 in ./.venv/lib/python3.12/site-packages (from openai) (4.12.2)\n",
      "Requirement already satisfied: packaging in ./.venv/lib/python3.12/site-packages (from faiss-cpu) (24.1)\n",
      "Requirement already satisfied: idna>=2.8 in ./.venv/lib/python3.12/site-packages (from anyio<5,>=3.5.0->openai) (3.7)\n",
      "Requirement already satisfied: certifi in ./.venv/lib/python3.12/site-packages (from httpx<1,>=0.23.0->openai) (2024.7.4)\n",
      "Requirement already satisfied: httpcore==1.* in ./.venv/lib/python3.12/site-packages (from httpx<1,>=0.23.0->openai) (1.0.5)\n",
      "Requirement already satisfied: h11<0.15,>=0.13 in ./.venv/lib/python3.12/site-packages (from httpcore==1.*->httpx<1,>=0.23.0->openai) (0.14.0)\n",
      "Requirement already satisfied: annotated-types>=0.4.0 in ./.venv/lib/python3.12/site-packages (from pydantic<3,>=1.9.0->openai) (0.7.0)\n",
      "Requirement already satisfied: pydantic-core==2.20.1 in ./.venv/lib/python3.12/site-packages (from pydantic<3,>=1.9.0->openai) (2.20.1)\n",
      "\n",
      "\u001b[1m[\u001b[0m\u001b[34;49mnotice\u001b[0m\u001b[1;39;49m]\u001b[0m\u001b[39;49m A new release of pip is available: \u001b[0m\u001b[31;49m24.0\u001b[0m\u001b[39;49m -> \u001b[0m\u001b[32;49m24.1.2\u001b[0m\n",
      "\u001b[1m[\u001b[0m\u001b[34;49mnotice\u001b[0m\u001b[1;39;49m]\u001b[0m\u001b[39;49m To update, run: \u001b[0m\u001b[32;49mpip install --upgrade pip\u001b[0m\n",
      "Note: you may need to restart the kernel to use updated packages.\n"
     ]
    }
   ],
   "source": [
    "# Only necessary libraries are imported, such as openai and faiss. This aims to reduce the library dependencies and make the notebook more lightweight.\n",
    "%pip install openai faiss-cpu numpy"
   ]
  },
  {
   "cell_type": "code",
   "execution_count": 1,
   "metadata": {},
   "outputs": [],
   "source": [
    "# Text split function for splitting long paragraphs in order to fit the embedding models\n",
    "import re\n",
    "\n",
    "\n",
    "def text_splitter(\n",
    "    text: str, char_limit: int = 500, eos_characters: str = \".\\n\"\n",
    ") -> list:\n",
    "    \"\"\"\n",
    "    Splits a given text into paragraphs based on a character limit and end-of-sentence (EOS) characters.\n",
    "    If a sentence exceeds the character limit, it's split without adding the EOS character.\n",
    "\n",
    "    Args:\n",
    "      text (str): The input text to be split into paragraphs.\n",
    "      char_limit (int, optional): The maximum character limit for each paragraph. Defaults to 500.\n",
    "      eos_characters (str, optional): The characters that mark the end of a sentence. Defaults to \".\\n\".\n",
    "\n",
    "    Returns:\n",
    "      list[str]: A list of paragraphs, where each paragraph is a string.\n",
    "    \"\"\"\n",
    "\n",
    "    paragraphs = []\n",
    "    current_paragraph = \"\"\n",
    "\n",
    "    # Use regex to split the text, keeping the EOS characters\n",
    "    pattern = f\"([{re.escape(eos_characters)}])\"\n",
    "    sentences = re.split(pattern, text)\n",
    "    # Group the sentences with their EOS characters\n",
    "    sentences = [\"\".join(sentences[i : i + 2]) for i in range(0, len(sentences), 2)]\n",
    "\n",
    "    def split_long_sentence(sentence, limit):\n",
    "        words = sentence.split()\n",
    "        chunks = []\n",
    "        current_chunk = \"\"\n",
    "        for word in words:\n",
    "            if len(current_chunk) + len(word) + 1 <= limit:\n",
    "                current_chunk += \" \" + word if current_chunk else word\n",
    "            else:\n",
    "                if current_chunk:\n",
    "                    chunks.append(current_chunk.strip())\n",
    "                current_chunk = word\n",
    "        if current_chunk:\n",
    "            chunks.append(current_chunk.strip())\n",
    "        return chunks\n",
    "\n",
    "    for sentence in sentences:\n",
    "        sentence = sentence.strip()\n",
    "        if sentence:  # Only process non-empty sentences\n",
    "            eos_char = sentence[-1] if sentence[-1] in eos_characters else \"\"\n",
    "            sentence_without_eos = sentence[:-1] if eos_char else sentence\n",
    "\n",
    "            if len(sentence_without_eos) > char_limit:\n",
    "                # Split the long sentence\n",
    "                sentence_chunks = split_long_sentence(sentence_without_eos, char_limit)\n",
    "                for chunk in sentence_chunks[:-1]:  # All chunks except the last one\n",
    "                    if current_paragraph:\n",
    "                        paragraphs.append(current_paragraph.strip())\n",
    "                    current_paragraph = chunk\n",
    "                # Handle the last chunk\n",
    "                last_chunk = sentence_chunks[-1]\n",
    "                if (\n",
    "                    len(current_paragraph) + len(last_chunk) + len(eos_char)\n",
    "                    <= char_limit\n",
    "                ):\n",
    "                    current_paragraph += (\n",
    "                        \" \" + last_chunk + eos_char\n",
    "                        if current_paragraph\n",
    "                        else last_chunk + eos_char\n",
    "                    )\n",
    "                else:\n",
    "                    if current_paragraph:\n",
    "                        paragraphs.append(current_paragraph.strip())\n",
    "                    current_paragraph = last_chunk + eos_char\n",
    "            else:\n",
    "                if len(current_paragraph) + len(sentence) <= char_limit:\n",
    "                    current_paragraph += (\n",
    "                        \" \" + sentence if current_paragraph else sentence\n",
    "                    )\n",
    "                else:\n",
    "                    if current_paragraph:\n",
    "                        paragraphs.append(current_paragraph.strip())\n",
    "                    current_paragraph = sentence\n",
    "\n",
    "    if current_paragraph:\n",
    "        paragraphs.append(current_paragraph.strip())\n",
    "\n",
    "    return paragraphs"
   ]
  },
  {
   "cell_type": "code",
   "execution_count": 7,
   "metadata": {},
   "outputs": [
    {
     "name": "stdout",
     "output_type": "stream",
     "text": [
      "“The Lottery [abridged]” (1948)--- By Shirley Jackson\n",
      "\n",
      "The people of the village began to gather in the square, between the post office and the bank, around ten o'clock; in some towns there were so many people that the lottery took two days and had to be started on June 2nd.  But in this village, where there were only about three hundred people, the whole lottery took less than two hours, so it could begin at ten o'clock in the morning and still be through in time to allow the villagers to get home for noon dinner. \n",
      "The children assembled first, of course. Bobby Martin had already stuffed his pockets full of stones, and the other boys soon followed his example, selecting the smoothest and roundest stones; Bobby and Harry Jones and Dickie Delacroix-- the villagers pronounced this name \"Dellacroy\"--eventually made a great pile of stones in one corner of the square and guarded it against the raids of the other boys. \n",
      "The lottery was conducted--as were the square dances, the teen club, the\n"
     ]
    }
   ],
   "source": [
    "# Load the text from a file. Original text: \"The Lottery\" by Shirley Jackson https://www.newyorker.com/magazine/1948/06/26/the-lottery \n",
    "\n",
    "file_path = 'docs/the_lottery_text.txt'\n",
    "\n",
    "with open(file_path, 'r') as file:\n",
    "  text = file.read()\n",
    "\n",
    "print(text[:1000])"
   ]
  },
  {
   "cell_type": "code",
   "execution_count": 9,
   "metadata": {},
   "outputs": [
    {
     "name": "stdout",
     "output_type": "stream",
     "text": [
      "Total number of paragraphs: 23\n",
      "\n",
      "First 5 paragraphs:\n",
      "“The Lottery [abridged]” (1948)--- By Shirley Jackson The people of the village began to gather in the square, between the post office and the bank, around ten o'clock; in some towns there were so many people that the lottery took two days and had to be started on June 2nd.\n",
      "\n",
      "---\n",
      "\n",
      "But in this village, where there were only about three hundred people, the whole lottery took less than two hours, so it could begin at ten o'clock in the morning and still be through in time to allow the villagers to get home for noon dinner. The children assembled first, of course.\n",
      "\n",
      "---\n",
      "\n",
      "Bobby Martin had already stuffed his pockets full of stones, and the other boys soon followed his example, selecting the smoothest and roundest stones; Bobby and Harry Jones and Dickie Delacroix-- the villagers pronounced this name \"Dellacroy\"--eventually made a great pile of stones in one corner of the square and guarded it against the raids of the other boys. The lottery was conducted--as were the square dances, the teen club, the Halloween program--by Mr.\n",
      "\n",
      "---\n",
      "\n",
      "Summers, who had time and energy to devote to civic activities. When he arrived in the square, carrying the black wooden box, there was a murmur of conversation among the villagers, and he waved and called, \"Little late today, folks. \" There was a great deal of fussing to be done before Mr. Summers declared the lottery open. There were the lists to make up--of heads of families- heads of households in each family. There was the proper swearing-in of Mr.\n",
      "\n",
      "---\n",
      "\n",
      "Summers by the postmaster, as the official of the lottery. Mrs. Hutchinson reached her husband, and Mr. Summers, who had been waiting, said cheerfully. \"Thought we were going to have to get on without you, Tessie. \" Mrs. Hutchinson said, grinning, \"Wouldn't have me leave m'dishes in the sink, now, would you. Joe?\" and soft laughter ran through the crowd as the people stirred back into position after Mrs. Hutchinson's arrival. \"Well, now. \" Mr.\n",
      "\n",
      "---\n",
      "\n"
     ]
    }
   ],
   "source": [
    "paragraphs = text_splitter(text, char_limit=500)\n",
    "\n",
    "print(\"Total number of paragraphs:\", len(paragraphs))\n",
    "\n",
    "print(\"\\nFirst 5 paragraphs:\")\n",
    "for paragraph in paragraphs[:5]:\n",
    "  print(paragraph)\n",
    "  print(\"\\n---\\n\")"
   ]
  },
  {
   "cell_type": "code",
   "execution_count": 14,
   "metadata": {},
   "outputs": [],
   "source": [
    "import os\n",
    "\n",
    "# set the OpenAI API key\n",
    "\n",
    "os.environ['OPENAI_API_KEY'] = 'sk-***'"
   ]
  },
  {
   "cell_type": "code",
   "execution_count": 21,
   "metadata": {},
   "outputs": [],
   "source": [
    "from openai import OpenAI\n",
    "import numpy as np\n",
    "import faiss \n",
    "\n",
    "client = OpenAI()"
   ]
  },
  {
   "cell_type": "code",
   "execution_count": 25,
   "metadata": {},
   "outputs": [],
   "source": [
    "def get_embedding(text: str, model: str = \"text-embedding-3-small\"):\n",
    "    \"\"\"\n",
    "    Get embedding for a given text using OpenAI's API.\n",
    "\n",
    "    Parameters:\n",
    "    text (str): The input text for which the embedding needs to be generated.\n",
    "    model (str): The name of the model to use for generating the embedding. Default is \"text-embedding-3-small\", the cheapest latest model.\n",
    "\n",
    "    Returns:\n",
    "    list: The embedding vector for the input text.\n",
    "    \"\"\"\n",
    "    text = text.replace(\"\\n\", \" \")\n",
    "    return client.embeddings.create(input=[text], model=model).data[0].embedding"
   ]
  },
  {
   "cell_type": "code",
   "execution_count": 26,
   "metadata": {},
   "outputs": [],
   "source": [
    "embeddings = [get_embedding(text) for text in paragraphs]"
   ]
  },
  {
   "cell_type": "code",
   "execution_count": 27,
   "metadata": {},
   "outputs": [],
   "source": [
    "# Initialize FAISS index\n",
    "dimension = len(embeddings[0])  # Dimension of the embedding\n",
    "index = faiss.IndexFlatL2(dimension)"
   ]
  },
  {
   "cell_type": "code",
   "execution_count": 28,
   "metadata": {},
   "outputs": [],
   "source": [
    "# Add embeddings to the FAISS index\n",
    "index.add(np.array(embeddings).astype(\"float32\"))"
   ]
  },
  {
   "cell_type": "code",
   "execution_count": 29,
   "metadata": {},
   "outputs": [],
   "source": [
    "# Perform a search\n",
    "query = \"When was it written?\"\n",
    "query_embedding = get_embedding(query)\n",
    "\n",
    "k = 2  # Number of nearest neighbors to retrieve\n",
    "distances, indices = index.search(np.array([query_embedding]).astype(\"float32\"), k)"
   ]
  },
  {
   "cell_type": "code",
   "execution_count": 32,
   "metadata": {},
   "outputs": [
    {
     "name": "stdout",
     "output_type": "stream",
     "text": [
      "Query: When was it written?\n",
      "Nearest neighbors:\n",
      "1. “The Lottery [abridged]” (1948)--- By Shirley Jackson The people of the village began to gather in the square, between the post office and the bank, around ten o'clock; in some towns there were so many people that the lottery took two days and had to be started on June 2nd. (Distance: 1.5568045377731323)\n",
      "2. Summers said, and Bill Hutchinson reached into the box and felt around, bringing his hand out at last with the slip of paper in it. The crowd was quiet. A girl whispered, \"I hope it's not Nancy,\" and the sound of the whisper reached the edges of the crowd. \"It's not the way it used to be. \" Old Man Warner said clearly. \"People ain't the way they used to be. \" \"All right,\" Mr. Summers said. \"Open the papers. Harry, you open little Dave's. \" Mr. (Distance: 1.602304458618164)\n"
     ]
    }
   ],
   "source": [
    "# Retrieve and print results\n",
    "print(f\"Query: {query}\")\n",
    "print(\"Nearest neighbors:\")\n",
    "for i, idx in enumerate(indices[0]):\n",
    "    print(f\"{i+1}. {paragraphs[idx]} (Distance: {distances[0][i]})\")\n",
    "    \n",
    "# Combine the paragraphs into a single context\n",
    "context = \" \".join(paragraphs)"
   ]
  },
  {
   "cell_type": "code",
   "execution_count": 34,
   "metadata": {},
   "outputs": [
    {
     "name": "stdout",
     "output_type": "stream",
     "text": [
      "1948\n"
     ]
    }
   ],
   "source": [
    "# Send the retrieved paragraphs along with the query to the OpenAI API to generate a complete answer\n",
    "\n",
    "full_query = f\"\"\"Use the below context to answer the subsequent question. If the answer cannot be found, write \"I don't know.\"\n",
    "\n",
    "Article:\n",
    "\\\"\\\"\\\"\n",
    "{context}\n",
    "\\\"\\\"\\\"\n",
    "\n",
    "Question: {query}\"\"\"\n",
    "\n",
    "response = client.chat.completions.create(\n",
    "    messages=[\n",
    "        {\n",
    "            \"role\": \"system\",\n",
    "            \"content\": \"You answer questions for the user.\",\n",
    "        },\n",
    "        {\"role\": \"user\", \"content\": full_query},\n",
    "    ],\n",
    "    model=\"gpt-4-turbo\",\n",
    "    temperature=0,\n",
    ")\n",
    "\n",
    "print(response.choices[0].message.content)"
   ]
  }
 ],
 "metadata": {
  "kernelspec": {
   "display_name": ".venv",
   "language": "python",
   "name": "python3"
  },
  "language_info": {
   "codemirror_mode": {
    "name": "ipython",
    "version": 3
   },
   "file_extension": ".py",
   "mimetype": "text/x-python",
   "name": "python",
   "nbconvert_exporter": "python",
   "pygments_lexer": "ipython3",
   "version": "3.12.4"
  }
 },
 "nbformat": 4,
 "nbformat_minor": 2
}
